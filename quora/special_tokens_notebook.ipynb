{
 "cells": [
  {
   "cell_type": "code",
   "execution_count": 1,
   "metadata": {},
   "outputs": [],
   "source": [
    "import spacy\n",
    "\n",
    "DESIRED_SPECIAL_TOKENS = ['ORG', 'MONEY', 'DATE']\n",
    "\n",
    "nlp = spacy.load('en_core_web_sm')"
   ]
  },
  {
   "cell_type": "code",
   "execution_count": 6,
   "metadata": {},
   "outputs": [
    {
     "name": "stdout",
     "output_type": "stream",
     "text": [
      "(Google, California, about 1000, 100.00$, 500.00, 10/21/2019)\n"
     ]
    }
   ],
   "source": [
    "text = 'I would like to meet you again at the next Google conference in California.' \\\n",
    "       ' There would be about 1000 people and you should pay 100.00$ on early booking and 500.00 after.' \\\n",
    "       ' See you on 10/21/2019.'\n",
    "doc = nlp(text)\n",
    "recognized_ent = doc.ents\n",
    "print(recognized_ent)\n",
    "\n"
   ]
  },
  {
   "cell_type": "code",
   "execution_count": 7,
   "metadata": {},
   "outputs": [
    {
     "ename": "AttributeError",
     "evalue": "attribute 'text' of 'spacy.tokens.span.Span' objects is not writable",
     "output_type": "error",
     "traceback": [
      "\u001b[1;31m----------------------------------------------------------\u001b[0m",
      "\u001b[1;31mAttributeError\u001b[0m           Traceback (most recent call last)",
      "\u001b[1;32m<ipython-input-7-046b5b0f2e23>\u001b[0m in \u001b[0;36m<module>\u001b[1;34m\u001b[0m\n\u001b[0;32m      1\u001b[0m \u001b[1;32mfor\u001b[0m \u001b[0mtoken\u001b[0m \u001b[1;32min\u001b[0m \u001b[0mrecognized_ent\u001b[0m\u001b[1;33m:\u001b[0m\u001b[1;33m\u001b[0m\u001b[1;33m\u001b[0m\u001b[0m\n\u001b[0;32m      2\u001b[0m     \u001b[1;32mif\u001b[0m \u001b[0mtoken\u001b[0m\u001b[1;33m.\u001b[0m\u001b[0mlabel_\u001b[0m \u001b[1;32min\u001b[0m \u001b[0mDESIRED_SPECIAL_TOKENS\u001b[0m\u001b[1;33m:\u001b[0m\u001b[1;33m\u001b[0m\u001b[1;33m\u001b[0m\u001b[0m\n\u001b[1;32m----> 3\u001b[1;33m         \u001b[0mtoken\u001b[0m\u001b[1;33m.\u001b[0m\u001b[0mtext\u001b[0m \u001b[1;33m=\u001b[0m \u001b[1;34m'<'\u001b[0m \u001b[1;33m+\u001b[0m \u001b[0mtoken\u001b[0m\u001b[1;33m.\u001b[0m\u001b[0mlabel_\u001b[0m \u001b[1;33m+\u001b[0m \u001b[1;34m'>'\u001b[0m\u001b[1;33m\u001b[0m\u001b[1;33m\u001b[0m\u001b[0m\n\u001b[0m",
      "\u001b[1;31mAttributeError\u001b[0m: attribute 'text' of 'spacy.tokens.span.Span' objects is not writable"
     ]
    }
   ],
   "source": [
    "for token in recognized_ent:\n",
    "    if token.label_ in DESIRED_SPECIAL_TOKENS:\n",
    "        token.text = '<' + token.label_ + '>'"
   ]
  },
  {
   "cell_type": "code",
   "execution_count": 8,
   "metadata": {},
   "outputs": [
    {
     "name": "stdout",
     "output_type": "stream",
     "text": [
      "The attribute already exists\n"
     ]
    }
   ],
   "source": [
    "# Define custom attr\n",
    "try:\n",
    "    spacy.tokens.token.Token.set_extension('sptk', default='')\n",
    "except:\n",
    "    print('The attribute already exists')\n",
    "\n",
    "# Init the new attr with text value or special token\n",
    "for token in doc:\n",
    "    if token.ent_type_ in DESIRED_SPECIAL_TOKENS:\n",
    "        token._.sptk = '<' + token.ent_type_ + '>'\n",
    "    else:  \n",
    "        token._.sptk = token.text\n"
   ]
  },
  {
   "cell_type": "code",
   "execution_count": 9,
   "metadata": {},
   "outputs": [
    {
     "data": {
      "text/plain": [
       "'I would like to meet you again at the next <ORG> conference in California . There would be about 1000 people and you should pay <MONEY> <MONEY> on early booking and 500.00 after . See you on <DATE> .'"
      ]
     },
     "execution_count": 9,
     "metadata": {},
     "output_type": "execute_result"
    }
   ],
   "source": [
    "processed_text = ' '.join([token._.sptk for token in doc])\n",
    "processed_text"
   ]
  },
  {
   "cell_type": "code",
   "execution_count": null,
   "metadata": {},
   "outputs": [],
   "source": []
  }
 ],
 "metadata": {
  "kernelspec": {
   "display_name": "Python 3",
   "language": "python",
   "name": "python3"
  },
  "language_info": {
   "codemirror_mode": {
    "name": "ipython",
    "version": 3
   },
   "file_extension": ".py",
   "mimetype": "text/x-python",
   "name": "python",
   "nbconvert_exporter": "python",
   "pygments_lexer": "ipython3",
   "version": "3.6.8"
  }
 },
 "nbformat": 4,
 "nbformat_minor": 2
}
